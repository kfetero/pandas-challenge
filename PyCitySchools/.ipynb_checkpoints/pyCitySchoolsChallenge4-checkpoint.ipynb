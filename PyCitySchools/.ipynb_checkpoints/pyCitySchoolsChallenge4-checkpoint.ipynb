{
 "cells": [
  {
   "cell_type": "code",
   "execution_count": 192,
   "id": "86f7d944-1bce-4290-b2b3-2c7c9fb0f17c",
   "metadata": {
    "tags": []
   },
   "outputs": [],
   "source": [
    "# Dependencies and Setup\n",
    "import pandas as pd\n",
    "import numpy as np\n",
    "from pathlib import Path\n",
    "\n",
    "# Data File patha\n",
    "schoolDataPath = Path(\"Resources/schools_complete.csv\")\n",
    "studentDataPath = Path(\"Resources/students_complete.csv\")\n",
    "\n",
    "# Read School and Student Data File and store into Pandas DataFrames\n",
    "schoolDataRead_df = pd.read_csv(schoolDataPath)\n",
    "studentDataRead_df = pd.read_csv(studentDataPath)\n",
    "# Combine the data into a single dataset.  \n",
    "schoolDataJoined_df = pd.merge(studentDataRead_df, schoolDataRead_df, how=\"left\", on=[\"school_name\", \"school_name\"])"
   ]
  },
  {
   "cell_type": "code",
   "execution_count": 193,
   "id": "f1a3c179-f4e2-41b2-bb21-e5130dd9986c",
   "metadata": {
    "tags": []
   },
   "outputs": [
    {
     "data": {
      "text/html": [
       "<div>\n",
       "<style scoped>\n",
       "    .dataframe tbody tr th:only-of-type {\n",
       "        vertical-align: middle;\n",
       "    }\n",
       "\n",
       "    .dataframe tbody tr th {\n",
       "        vertical-align: top;\n",
       "    }\n",
       "\n",
       "    .dataframe thead th {\n",
       "        text-align: right;\n",
       "    }\n",
       "</style>\n",
       "<table border=\"1\" class=\"dataframe\">\n",
       "  <thead>\n",
       "    <tr style=\"text-align: right;\">\n",
       "      <th></th>\n",
       "      <th>Total Schools</th>\n",
       "      <th>Total Students</th>\n",
       "      <th>Total Budget</th>\n",
       "      <th>Average Maths Score</th>\n",
       "      <th>Average Reading Score</th>\n",
       "      <th>% Passing Maths</th>\n",
       "      <th>% Passing Reading</th>\n",
       "      <th>% Overall Passing</th>\n",
       "    </tr>\n",
       "  </thead>\n",
       "  <tbody>\n",
       "    <tr>\n",
       "      <th>0</th>\n",
       "      <td>15</td>\n",
       "      <td>39,170</td>\n",
       "      <td>$24,649,428.00</td>\n",
       "      <td>70.338192</td>\n",
       "      <td>69.980138</td>\n",
       "      <td>86.078632</td>\n",
       "      <td>84.426857</td>\n",
       "      <td>72.808272</td>\n",
       "    </tr>\n",
       "  </tbody>\n",
       "</table>\n",
       "</div>"
      ],
      "text/plain": [
       "   Total Schools Total Students    Total Budget  Average Maths Score  \\\n",
       "0             15         39,170  $24,649,428.00            70.338192   \n",
       "\n",
       "   Average Reading Score  % Passing Maths  % Passing Reading  \\\n",
       "0              69.980138        86.078632          84.426857   \n",
       "\n",
       "   % Overall Passing  \n",
       "0          72.808272  "
      ]
     },
     "execution_count": 193,
     "metadata": {},
     "output_type": "execute_result"
    }
   ],
   "source": [
    "totalSchools = schoolDataRead_df[\"school_name\"].count()\n",
    "# total schools\n",
    "totalBudget = schoolDataRead_df[\"budget\"].sum()\n",
    "# total students\n",
    "totalStudents = studentDataRead_df[\"student_name\"].count()\n",
    "#average math score\n",
    "averageStudentMathScore = studentDataRead_df[\"maths_score\"].mean()\n",
    "# average reading score\n",
    "averageStudentReadingScore = studentDataRead_df[\"reading_score\"].mean()\n",
    "#% passing maths \n",
    "totalStudentsPassingMath_df = studentDataRead_df.loc[studentDataRead_df[\"maths_score\"] >= 50]\n",
    "totalStudentsPassingMath = totalStudentsPassingMath_df[\"maths_score\"].count()\n",
    "porcentageStudentPassingMaths = (totalStudentsPassingMath * 100)/totalStudents\n",
    "# % passing reading\n",
    "totalStudentsPassingReading_df = studentDataRead_df.loc[studentDataRead_df[\"reading_score\"] >= 50]\n",
    "totalStudentsPassingReading = totalStudentsPassingReading_df[\"reading_score\"].count()\n",
    "porcentageStudentPassingReading = (totalStudentsPassingReading * 100)/totalStudents\n",
    "# % passing overall\n",
    "totalStudentsPassingOverall_df = studentDataRead_df.loc[(studentDataRead_df[\"maths_score\"] >= 50) & (studentDataRead_df[\"reading_score\"] >= 50)]\n",
    "totalStudentsPassingOverall = totalStudentsPassingOverall_df[\"maths_score\"].count()\n",
    "porcentageStudentPassingOverall = (totalStudentsPassingOverall  * 100)/totalStudents\n",
    "# \n",
    "# Schools and Students summary data\n",
    "area_summary_df = pd.DataFrame({\"Total Schools\": totalSchools,\"Total Students\": totalStudents,\"Total Budget\": totalBudget,\"Average Maths Score\": averageStudentMathScore,\"Average Reading Score\": averageStudentReadingScore,\"% Passing Maths\": porcentageStudentPassingMaths,\"% Passing Reading\": porcentageStudentPassingReading,\"% Overall Passing\": porcentageStudentPassingOverall}, index=[0])\n",
    "area_summary_df[\"Total Students\"]= area_summary_df[\"Total Students\"].map(\"{:,}\".format)\n",
    "area_summary_df[\"Total Budget\"]= area_summary_df[\"Total Budget\"].map(\"${:,.2f}\".format)\n",
    "# Show  data summary\n",
    "area_summary_df.head()"
   ]
  },
  {
   "cell_type": "code",
   "execution_count": 194,
   "id": "c8c3830b-09b9-4f6c-9736-df8934e23f84",
   "metadata": {
    "tags": []
   },
   "outputs": [
    {
     "data": {
      "text/plain": [
       "Index(['School ID', 'school_name', 'type', 'size', 'budget'], dtype='object')"
      ]
     },
     "execution_count": 194,
     "metadata": {},
     "output_type": "execute_result"
    }
   ],
   "source": [
    "schoolDataRead_df.columns\n"
   ]
  },
  {
   "cell_type": "code",
   "execution_count": 195,
   "id": "1c8f4da9-0ca5-48c0-9b0a-c2be61590a61",
   "metadata": {
    "tags": []
   },
   "outputs": [
    {
     "data": {
      "text/plain": [
       "Index(['Student ID', 'student_name', 'gender', 'year', 'school_name',\n",
       "       'reading_score', 'maths_score'],\n",
       "      dtype='object')"
      ]
     },
     "execution_count": 195,
     "metadata": {},
     "output_type": "execute_result"
    }
   ],
   "source": [
    "studentDataRead_df.columns"
   ]
  },
  {
   "cell_type": "code",
   "execution_count": 231,
   "id": "93008960-511b-4738-a62a-03bf126d3ebd",
   "metadata": {
    "tags": []
   },
   "outputs": [
    {
     "data": {
      "text/html": [
       "<div>\n",
       "<style scoped>\n",
       "    .dataframe tbody tr th:only-of-type {\n",
       "        vertical-align: middle;\n",
       "    }\n",
       "\n",
       "    .dataframe tbody tr th {\n",
       "        vertical-align: top;\n",
       "    }\n",
       "\n",
       "    .dataframe thead th {\n",
       "        text-align: right;\n",
       "    }\n",
       "</style>\n",
       "<table border=\"1\" class=\"dataframe\">\n",
       "  <thead>\n",
       "    <tr style=\"text-align: right;\">\n",
       "      <th></th>\n",
       "      <th>maths_score</th>\n",
       "      <th>reading_score</th>\n",
       "    </tr>\n",
       "    <tr>\n",
       "      <th>school_name</th>\n",
       "      <th></th>\n",
       "      <th></th>\n",
       "    </tr>\n",
       "  </thead>\n",
       "  <tbody>\n",
       "    <tr>\n",
       "      <th>Bailey High School</th>\n",
       "      <td>72.352894</td>\n",
       "      <td>71.008842</td>\n",
       "    </tr>\n",
       "    <tr>\n",
       "      <th>Cabrera High School</th>\n",
       "      <td>71.657158</td>\n",
       "      <td>71.359526</td>\n",
       "    </tr>\n",
       "    <tr>\n",
       "      <th>Figueroa High School</th>\n",
       "      <td>68.698542</td>\n",
       "      <td>69.077993</td>\n",
       "    </tr>\n",
       "    <tr>\n",
       "      <th>Ford High School</th>\n",
       "      <td>69.091274</td>\n",
       "      <td>69.572472</td>\n",
       "    </tr>\n",
       "    <tr>\n",
       "      <th>Griffin High School</th>\n",
       "      <td>71.788147</td>\n",
       "      <td>71.245232</td>\n",
       "    </tr>\n",
       "    <tr>\n",
       "      <th>Hernandez High School</th>\n",
       "      <td>68.874865</td>\n",
       "      <td>69.186408</td>\n",
       "    </tr>\n",
       "    <tr>\n",
       "      <th>Holden High School</th>\n",
       "      <td>72.583138</td>\n",
       "      <td>71.660422</td>\n",
       "    </tr>\n",
       "    <tr>\n",
       "      <th>Huang High School</th>\n",
       "      <td>68.935207</td>\n",
       "      <td>68.910525</td>\n",
       "    </tr>\n",
       "    <tr>\n",
       "      <th>Johnson High School</th>\n",
       "      <td>68.843100</td>\n",
       "      <td>69.039277</td>\n",
       "    </tr>\n",
       "    <tr>\n",
       "      <th>Pena High School</th>\n",
       "      <td>72.088358</td>\n",
       "      <td>71.613306</td>\n",
       "    </tr>\n",
       "    <tr>\n",
       "      <th>Rodriguez High School</th>\n",
       "      <td>72.047762</td>\n",
       "      <td>70.935984</td>\n",
       "    </tr>\n",
       "    <tr>\n",
       "      <th>Shelton High School</th>\n",
       "      <td>72.034072</td>\n",
       "      <td>70.257808</td>\n",
       "    </tr>\n",
       "    <tr>\n",
       "      <th>Thomas High School</th>\n",
       "      <td>69.581651</td>\n",
       "      <td>69.768807</td>\n",
       "    </tr>\n",
       "    <tr>\n",
       "      <th>Wilson High School</th>\n",
       "      <td>69.170828</td>\n",
       "      <td>68.876916</td>\n",
       "    </tr>\n",
       "    <tr>\n",
       "      <th>Wright High School</th>\n",
       "      <td>72.047222</td>\n",
       "      <td>70.969444</td>\n",
       "    </tr>\n",
       "  </tbody>\n",
       "</table>\n",
       "</div>"
      ],
      "text/plain": [
       "                       maths_score  reading_score\n",
       "school_name                                      \n",
       "Bailey High School       72.352894      71.008842\n",
       "Cabrera High School      71.657158      71.359526\n",
       "Figueroa High School     68.698542      69.077993\n",
       "Ford High School         69.091274      69.572472\n",
       "Griffin High School      71.788147      71.245232\n",
       "Hernandez High School    68.874865      69.186408\n",
       "Holden High School       72.583138      71.660422\n",
       "Huang High School        68.935207      68.910525\n",
       "Johnson High School      68.843100      69.039277\n",
       "Pena High School         72.088358      71.613306\n",
       "Rodriguez High School    72.047762      70.935984\n",
       "Shelton High School      72.034072      70.257808\n",
       "Thomas High School       69.581651      69.768807\n",
       "Wilson High School       69.170828      68.876916\n",
       "Wright High School       72.047222      70.969444"
      ]
     },
     "execution_count": 231,
     "metadata": {},
     "output_type": "execute_result"
    }
   ],
   "source": [
    "# School Summary\n",
    "schoolDataSelected_df = schoolDataRead_df[[\"school_name\", \"type\", \"budget\"]]\n",
    "schoolDataSelected_df.head(15)\n",
    "\n",
    "studentDataSelected_df = studentDataRead_df[[\"Student ID\", \"school_name\", \"reading_score\", \"maths_score\"]]\n",
    "totalStudentsBySchool = studentDataRead_df[[\"Student ID\", \"school_name\"]]\n",
    "totalStudentsBySchool = totalStudentsBySchool.groupby([\"school_name\"]).count() \n",
    "averageMathScoreBySchool = studentDataRead_df[[\"school_name\", \"maths_score\", \"reading_score\"]]\n",
    "averageMathScoreBySchool = averageMathScoreBySchool.groupby([\"school_name\"]).mean() \n",
    "averageMathScoreBySchool\n",
    "\n",
    "# studentsDataMerge_df = pd.merge(schoolDataSelected_df, studentDataSelected_df,  how=\"left\", on=[\"school_name\", \"school_name\"])\n",
    "# studentsDataMerge_df = pd.DataFrame(studentsDataMerge_df)\n",
    "# studentsDataMerge_df\n",
    "\n"
   ]
  },
  {
   "cell_type": "code",
   "execution_count": null,
   "id": "2d665ecf-1787-434a-996c-b11cc28a8cb4",
   "metadata": {},
   "outputs": [],
   "source": []
  },
  {
   "cell_type": "code",
   "execution_count": null,
   "id": "7e7a4027-9b33-4aa0-b9fe-dd244ab14f09",
   "metadata": {},
   "outputs": [],
   "source": []
  },
  {
   "cell_type": "code",
   "execution_count": null,
   "id": "400577a1-2da2-4563-bdb8-77b7d672fce9",
   "metadata": {},
   "outputs": [],
   "source": []
  },
  {
   "cell_type": "code",
   "execution_count": null,
   "id": "ab194590-0e61-46cd-9d7e-b209f09dcfb9",
   "metadata": {},
   "outputs": [],
   "source": []
  },
  {
   "cell_type": "code",
   "execution_count": null,
   "id": "2de90ef6-e731-4f9b-9121-051158a62e30",
   "metadata": {},
   "outputs": [],
   "source": []
  }
 ],
 "metadata": {
  "kernelspec": {
   "display_name": "Python 3 (ipykernel)",
   "language": "python",
   "name": "python3"
  },
  "language_info": {
   "codemirror_mode": {
    "name": "ipython",
    "version": 3
   },
   "file_extension": ".py",
   "mimetype": "text/x-python",
   "name": "python",
   "nbconvert_exporter": "python",
   "pygments_lexer": "ipython3",
   "version": "3.11.4"
  }
 },
 "nbformat": 4,
 "nbformat_minor": 5
}
